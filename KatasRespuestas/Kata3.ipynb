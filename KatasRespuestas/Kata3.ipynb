{
  "cells": [
    {
      "cell_type": "markdown",
      "metadata": {},
      "source": [
        "#Codigo 1"
      ]
    },
    {
      "cell_type": "code",
      "execution_count": 7,
      "metadata": {},
      "outputs": [
        {
          "name": "stdout",
          "output_type": "stream",
          "text": [
            "Advertencia!!! un asteroide esta viajando a una velocidad peligrosa de: 49Km/s \n"
          ]
        }
      ],
      "source": [
        "vAsteroide = 49\n",
        "\n",
        "if vAsteroide > 25:\n",
        "    print(\"Advertencia!!! un asteroide esta viajando a una velocidad peligrosa de: \" + str(vAsteroide) + \"Km/s \")\n",
        "else:\n",
        "    print(\"Todo se encuentra bien\")"
      ]
    },
    {
      "cell_type": "markdown",
      "metadata": {},
      "source": [
        "#Codigo 2"
      ]
    },
    {
      "cell_type": "code",
      "execution_count": 12,
      "metadata": {},
      "outputs": [
        {
          "name": "stdout",
          "output_type": "stream",
          "text": [
            "Sigan con su vida diaria\n"
          ]
        }
      ],
      "source": [
        "vAsteroide = 19\n",
        "if vAsteroide > 20:\n",
        "    print (\"Salgan a  buscar un asteroide en el cielo!!\")\n",
        "elif vAsteroide == 20:\n",
        "    print (\"Salgan a  buscar un asteroide en el cielo!!\")\n",
        "else: \n",
        "    print (\"Sigan con su vida diaria\")"
      ]
    },
    {
      "cell_type": "markdown",
      "metadata": {},
      "source": [
        "#Codigo 3"
      ]
    },
    {
      "cell_type": "code",
      "execution_count": 23,
      "metadata": {},
      "outputs": [
        {
          "name": "stdout",
          "output_type": "stream",
          "text": [
            "Salgan a  buscar una luz en el cielo!! \n"
          ]
        }
      ],
      "source": [
        "tAsteroide = 40\n",
        "vAsteroide = 25\n",
        "\n",
        "if tAsteroide > 25 and vAsteroide > 25:\n",
        "    print(\"Advertencia!!! un asteroide esta viajando a una velocidad peligrosa de: \" + str(vAsteroide) + \"Km/s \")\n",
        "elif vAsteroide >= 20:\n",
        "    print (\"Salgan a  buscar una luz en el cielo!! \")\n",
        "elif tAsteroide < 25 :\n",
        "        print (\"Sigan con su vida diaria \")\n",
        "else: \n",
        "        print (\"Sigan con su vida diaria\")\n",
        "        \n"
      ]
    },
    {
      "cell_type": "markdown",
      "metadata": {},
      "source": [
        "#Codigo 3 con solucion input"
      ]
    },
    {
      "cell_type": "code",
      "execution_count": 29,
      "metadata": {},
      "outputs": [
        {
          "name": "stdout",
          "output_type": "stream",
          "text": [
            "Advertencia!!! un asteroide esta viajando a una velocidad peligrosa de: 50Km/s \n"
          ]
        }
      ],
      "source": [
        "tAsteroide = input(\"Ingresa tamaño de asteroide: \")\n",
        "vAsteroide = input(\"Ingresa velocidad de asteroide: \")\n",
        "\n",
        "if int(tAsteroide) > 25 and int(vAsteroide) > 25:\n",
        "    print(\"Advertencia!!! un asteroide esta viajando a una velocidad peligrosa de: \" + str(vAsteroide) + \"Km/s \")\n",
        "elif int(vAsteroide) >= 20:\n",
        "    print (\"Salgan a  buscar una luz en el cielo!! \")\n",
        "elif int(tAsteroide) < 25 :\n",
        "        print (\"Sigan con su vida diaria \")\n",
        "else: \n",
        "        print (\"Sigan con su vida diaria\")"
      ]
    }
  ],
  "metadata": {
    "interpreter": {
      "hash": "5c0372ed38b372118c24adb00d45654d76c8d10261533c5724e3f5fc1d75489a"
    },
    "kernelspec": {
      "display_name": "Python 3.8.7 64-bit",
      "language": "python",
      "name": "python3"
    },
    "language_info": {
      "codemirror_mode": {
        "name": "ipython",
        "version": 3
      },
      "file_extension": ".py",
      "mimetype": "text/x-python",
      "name": "python",
      "nbconvert_exporter": "python",
      "pygments_lexer": "ipython3",
      "version": "3.8.7"
    },
    "orig_nbformat": 4
  },
  "nbformat": 4,
  "nbformat_minor": 2
}
