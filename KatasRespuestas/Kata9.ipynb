{
 "cells": [
  {
   "cell_type": "code",
   "execution_count": 4,
   "metadata": {},
   "outputs": [
    {
     "name": "stdout",
     "output_type": "stream",
     "text": [
      "\n",
      "            El promedio es: 50.0%\n",
      "            El tanque 1 tiene: 70%\n",
      "            El tanque 2 tiene 50%\n",
      "            El tanque 3 tiene 30% \n"
     ]
    }
   ],
   "source": [
    "def generarInforme(tanque1,tanque2,tanque3):\n",
    "    promedio = (tanque1 + tanque2  + tanque3)/3\n",
    "    return f\"\"\"\n",
    "            El promedio es: {promedio}%\n",
    "            El tanque 1 tiene: {tanque1}%\n",
    "            El tanque 2 tiene {tanque2}%\n",
    "            El tanque 3 tiene {tanque3}% \"\"\"\n",
    "\n",
    "\n",
    "\n",
    "\n",
    "\n"
   ]
  },
  {
   "cell_type": "code",
   "execution_count": 10,
   "metadata": {},
   "outputs": [
    {
     "name": "stdout",
     "output_type": "stream",
     "text": [
      "\n",
      "            El promedio es: 83.33333333333333%\n",
      "            El tanque 1 tiene: 100%\n",
      "            El tanque 2 tiene 80%\n",
      "            El tanque 3 tiene 70% \n"
     ]
    }
   ],
   "source": [
    "def prom(tanque1,tanque2,tanque3):\n",
    "    promedio = (tanque1 + tanque2  + tanque3)/3\n",
    "    return promedio\n",
    "\n",
    "def generarInforme(tanque1,tanque2,tanque3):\n",
    "    return f\"\"\"\n",
    "            El promedio es: {prom(tanque1,tanque2,tanque3)}%\n",
    "            El tanque 1 tiene: {tanque1}%\n",
    "            El tanque 2 tiene {tanque2}%\n",
    "            El tanque 3 tiene {tanque3}% \"\"\"\n",
    "\n",
    "\n",
    "print(generarInforme(100,80,70))"
   ]
  },
  {
   "cell_type": "markdown",
   "metadata": {},
   "source": [
    "#Codigo2"
   ]
  },
  {
   "cell_type": "code",
   "execution_count": 3,
   "metadata": {},
   "outputs": [
    {
     "name": "stdout",
     "output_type": "stream",
     "text": [
      "\n",
      "            El viaje con destino a: Marte\n",
      "            Cuenta con un combustible total de: 40000000 galones\n",
      "            Se tiene un tiempo total de vuelo de 80 minutos\n"
     ]
    }
   ],
   "source": [
    "def crearInforme(horaPre, tiempoVuelo, destino, tanqueExterno, tanqueInterno):\n",
    "    return f\"\"\"\n",
    "            El viaje con destino a: {destino}\n",
    "            Cuenta con un combustible total de: {tanqueExterno + tanqueInterno} galones\n",
    "            Se tiene un tiempo total de vuelo de {horaPre + tiempoVuelo} minutos\"\"\"\n",
    "\n",
    "\n",
    "\n",
    "print(crearInforme(20,60,\"Marte\",30000000,10000000))"
   ]
  },
  {
   "cell_type": "code",
   "execution_count": 16,
   "metadata": {},
   "outputs": [
    {
     "name": "stdout",
     "output_type": "stream",
     "text": [
      "\n",
      "            El viaje con destino a: Marte\n",
      "            Cuenta con un combustible total de: 40000000 galones\n",
      "            Se tiene un tiempo total de vuelo de 80 minutos\n",
      "            principal tiene: 30000000 galones \tsecundario tiene: 10000000 galones \t\n"
     ]
    }
   ],
   "source": [
    "def crearInforme( destino, *minutes , **fuel_reservoirs):\n",
    "    reporte = f\"\"\"\n",
    "            El viaje con destino a: {destino}\n",
    "            Cuenta con un combustible total de: {sum(fuel_reservoirs.values())} galones\n",
    "            Se tiene un tiempo total de vuelo de {sum(minutes)} minutos\n",
    "            \"\"\"\n",
    "    for nombreTanque , combustible in fuel_reservoirs.items():\n",
    "        reporte = reporte + f\"{nombreTanque} tiene: {combustible} galones \\t\"\n",
    "    \n",
    "    return reporte\n",
    " \n",
    "\n",
    "\n",
    "\n",
    "\n",
    "print(crearInforme(\"Marte\",20,60,principal=30000000,secundario=10000000))"
   ]
  }
 ],
 "metadata": {
  "interpreter": {
   "hash": "5c0372ed38b372118c24adb00d45654d76c8d10261533c5724e3f5fc1d75489a"
  },
  "kernelspec": {
   "display_name": "Python 3.8.7 64-bit",
   "language": "python",
   "name": "python3"
  },
  "language_info": {
   "codemirror_mode": {
    "name": "ipython",
    "version": 3
   },
   "file_extension": ".py",
   "mimetype": "text/x-python",
   "name": "python",
   "nbconvert_exporter": "python",
   "pygments_lexer": "ipython3",
   "version": "3.8.7"
  },
  "orig_nbformat": 4
 },
 "nbformat": 4,
 "nbformat_minor": 2
}
