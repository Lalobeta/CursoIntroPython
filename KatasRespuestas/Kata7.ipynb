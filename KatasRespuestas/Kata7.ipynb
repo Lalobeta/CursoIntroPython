{
 "cells": [
  {
   "cell_type": "markdown",
   "metadata": {},
   "source": [
    "#Codigo 1"
   ]
  },
  {
   "cell_type": "code",
   "execution_count": 10,
   "metadata": {},
   "outputs": [
    {
     "name": "stdout",
     "output_type": "stream",
     "text": [
      "Por favor escriba un nombre\n",
      "Por favor escriba un nombre\n",
      "Por favor escriba un nombre\n",
      "Se han guardado todos los planetas!!!\n",
      "A continuacion se listan los planetas escritos\n",
      "planeta\n",
      "venus\n",
      "tierra\n"
     ]
    }
   ],
   "source": [
    "new_planet=\" \"\n",
    "planets = []\n",
    "\n",
    "while new_planet.lower() != 'done':\n",
    "    new_planet = input(\"Ingrese un nuevo planeta, o para terminar escriba 'done'\")\n",
    "    if new_planet == 'done' :\n",
    "        print(\"Se han guardado todos los planetas!!!\")\n",
    "        print (\"A continuacion se listan los planetas escritos\")\n",
    "    elif new_planet == '':\n",
    "        print(\"Por favor escriba un nombre\")\n",
    "    else:\n",
    "        planets.append(new_planet)\n",
    "#codigo 2\n",
    "for planet in planets:\n",
    "    print(planet)\n",
    "\n",
    "\n",
    "\n"
   ]
  },
  {
   "cell_type": "code",
   "execution_count": 11,
   "metadata": {},
   "outputs": [
    {
     "name": "stdout",
     "output_type": "stream",
     "text": [
      "planeta\n",
      "venus\n",
      "tierra\n"
     ]
    }
   ],
   "source": [
    "for planet in planets:\n",
    "    print(planet)"
   ]
  }
 ],
 "metadata": {
  "interpreter": {
   "hash": "5c0372ed38b372118c24adb00d45654d76c8d10261533c5724e3f5fc1d75489a"
  },
  "kernelspec": {
   "display_name": "Python 3.8.7 64-bit",
   "language": "python",
   "name": "python3"
  },
  "language_info": {
   "codemirror_mode": {
    "name": "ipython",
    "version": 3
   },
   "file_extension": ".py",
   "mimetype": "text/x-python",
   "name": "python",
   "nbconvert_exporter": "python",
   "pygments_lexer": "ipython3",
   "version": "3.8.7"
  },
  "orig_nbformat": 4
 },
 "nbformat": 4,
 "nbformat_minor": 2
}
