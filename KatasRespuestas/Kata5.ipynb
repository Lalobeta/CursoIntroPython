{
 "cells": [
  {
   "cell_type": "markdown",
   "metadata": {},
   "source": [
    "#Codigo 1"
   ]
  },
  {
   "cell_type": "code",
   "execution_count": 16,
   "metadata": {},
   "outputs": [
    {
     "name": "stdout",
     "output_type": "stream",
     "text": [
      "628949330 km\n",
      "390577534 millas\n"
     ]
    }
   ],
   "source": [
    "\n",
    "dTierra= 149597870\n",
    "dJupiter= 778547200\n",
    "milla= 0.621\n",
    "\n",
    "distancia= dTierra - dJupiter\n",
    "distancia_millas= distancia * milla\n",
    "\n",
    "\n",
    "\n",
    "print(str(abs(distancia)) + \" km\")\n",
    "print(str(abs(round(distancia_millas)))+ \" millas\")"
   ]
  },
  {
   "cell_type": "markdown",
   "metadata": {},
   "source": [
    "#Codigo 2"
   ]
  },
  {
   "cell_type": "code",
   "execution_count": 17,
   "metadata": {},
   "outputs": [
    {
     "name": "stdout",
     "output_type": "stream",
     "text": [
      "170000000 km\n",
      "105570000 millas\n"
     ]
    }
   ],
   "source": [
    "planetaUno = input(\"Ingresa la distancia al sol del primer planeta: \")\n",
    "planetaDos = input(\"Ingresa la distancia al sol del segundo planeta: \")\n",
    "milla = 0.621\n",
    "\n",
    "distanciaKm= int(planetaDos)- int(planetaUno)\n",
    "distanciaMillas = distanciaKm * milla\n",
    "\n",
    "print(str(abs(distanciaKm)) + \" km\")\n",
    "print(str(abs(round(distanciaMillas))) + \" millas\")\n",
    "\n"
   ]
  }
 ],
 "metadata": {
  "interpreter": {
   "hash": "5c0372ed38b372118c24adb00d45654d76c8d10261533c5724e3f5fc1d75489a"
  },
  "kernelspec": {
   "display_name": "Python 3.8.7 64-bit",
   "language": "python",
   "name": "python3"
  },
  "language_info": {
   "codemirror_mode": {
    "name": "ipython",
    "version": 3
   },
   "file_extension": ".py",
   "mimetype": "text/x-python",
   "name": "python",
   "nbconvert_exporter": "python",
   "pygments_lexer": "ipython3",
   "version": "3.8.7"
  },
  "orig_nbformat": 4
 },
 "nbformat": 4,
 "nbformat_minor": 2
}
