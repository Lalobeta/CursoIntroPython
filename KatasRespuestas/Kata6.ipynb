{
 "cells": [
  {
   "cell_type": "markdown",
   "metadata": {},
   "source": [
    "#Codigo 1"
   ]
  },
  {
   "cell_type": "code",
   "execution_count": 7,
   "metadata": {},
   "outputs": [
    {
     "name": "stdout",
     "output_type": "stream",
     "text": [
      "Hay 8 Planetas \n",
      "Hay 9 Planetas donde el ultimo planeta es Pluton\n"
     ]
    }
   ],
   "source": [
    "planets = ['Mercurio','Venus','Tierra','Marte','Jupiter','Saturno','Urano','Neptuno']\n",
    "print(\"Hay \" + str(len(planets)) + \" Planetas \")\n",
    "\n",
    "planets.append('Pluton')\n",
    "print(\"Hay \" + str(len(planets)) + \" Planetas donde el ultimo planeta es \" + str(planets[-1]) )\n",
    "\n"
   ]
  },
  {
   "cell_type": "markdown",
   "metadata": {},
   "source": [
    "#Codigo 2"
   ]
  },
  {
   "cell_type": "code",
   "execution_count": 17,
   "metadata": {},
   "outputs": [
    {
     "name": "stdout",
     "output_type": "stream",
     "text": [
      "los planetas mas cerca al sol hasta Marte son: ['Mercurio', 'Venus', 'Tierra']\n",
      "los planetas mas lejanos al sol desde Marte son: ['Jupiter', 'Saturno', 'Urano', 'Neptuno']\n"
     ]
    }
   ],
   "source": [
    "planets = ['Mercurio','Venus','Tierra','Marte','Jupiter','Saturno','Urano','Neptuno']\n",
    "\n",
    "buscarP = input(\"Ingrese el planeta a buscar (Iniciar con Mayuscula)\")\n",
    "\n",
    "planetaIndice = planets.index(buscarP)\n",
    "if(planetaIndice == 0):\n",
    "    print(str(planets[planetaIndice]) + \" es el mas cercano al sol\")\n",
    "    print(\"los planetas mas lejanos al sol desde \"+ str(planets[planetaIndice])  +\" son: \"+ str(planets[planetaIndice+1:]))\n",
    "elif(planets[planetaIndice] == planets[-1] ):\n",
    "    print(\"los planetas mas cerca al sol hasta \"+ str(planets[planetaIndice])  +\" son: \"+ str(planets[:planetaIndice]))\n",
    "    print(str(planets[planetaIndice]) + \" es el mas lejano al sol\")\n",
    "    \n",
    "else: \n",
    "    print(\"los planetas mas cerca al sol hasta \"+ str(planets[planetaIndice])  +\" son: \" +str(planets[:planetaIndice]))\n",
    "    print(\"los planetas mas lejanos al sol desde \"+ str(planets[planetaIndice])  +\" son: \"+ str(planets[planetaIndice+1:]))\n"
   ]
  }
 ],
 "metadata": {
  "interpreter": {
   "hash": "5c0372ed38b372118c24adb00d45654d76c8d10261533c5724e3f5fc1d75489a"
  },
  "kernelspec": {
   "display_name": "Python 3.8.7 64-bit",
   "language": "python",
   "name": "python3"
  },
  "language_info": {
   "codemirror_mode": {
    "name": "ipython",
    "version": 3
   },
   "file_extension": ".py",
   "mimetype": "text/x-python",
   "name": "python",
   "nbconvert_exporter": "python",
   "pygments_lexer": "ipython3",
   "version": "3.8.7"
  },
  "orig_nbformat": 4
 },
 "nbformat": 4,
 "nbformat_minor": 2
}
