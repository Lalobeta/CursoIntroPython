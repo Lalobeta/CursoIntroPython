{
 "cells": [
  {
   "cell_type": "markdown",
   "metadata": {},
   "source": [
    "#Codigo 1"
   ]
  },
  {
   "cell_type": "code",
   "execution_count": 39,
   "metadata": {},
   "outputs": [
    {
     "data": {
      "text/plain": [
       "['interesting facts about the moon',\n",
       " \" the moon is earth's only satellite\",\n",
       " ' there are several interesting facts about the moon and how it affects life here on earth',\n",
       " ' \\non average, the moon moves 4cm away from the earth every year',\n",
       " ' this yearly drift is not significant enough to cause immediate effects on earth',\n",
       " ' the highest daylight temperature of the moon is 127 c',\n",
       " '']"
      ]
     },
     "execution_count": 39,
     "metadata": {},
     "output_type": "execute_result"
    }
   ],
   "source": [
    "text = \"\"\"Interesting facts about the Moon. The Moon is Earth's only satellite. There are several interesting facts about the Moon and how it affects life here on Earth. \n",
    "On average, the Moon moves 4cm away from the Earth every year. This yearly drift is not significant enough to cause immediate effects on Earth. The highest daylight temperature of the Moon is 127 C.\"\"\"\n",
    "\n",
    "oraciones = text.lower().split('.')\n",
    "oraciones \n",
    "\n"
   ]
  },
  {
   "cell_type": "code",
   "execution_count": 46,
   "metadata": {},
   "outputs": [],
   "source": [
    "pClave = ['average','temperature','distance']\n"
   ]
  },
  {
   "cell_type": "code",
   "execution_count": 48,
   "metadata": {},
   "outputs": [
    {
     "name": "stdout",
     "output_type": "stream",
     "text": [
      " \n",
      "on average, the moon moves 4cm away from the earth every year\n",
      " the highest daylight temperature of the moon is 127 c\n"
     ]
    }
   ],
   "source": [
    "for item in oraciones:\n",
    "    for palabra in pClave:\n",
    "        if palabra in item:\n",
    "            print(item)\n",
    "            "
   ]
  },
  {
   "cell_type": "code",
   "execution_count": 53,
   "metadata": {},
   "outputs": [
    {
     "name": "stdout",
     "output_type": "stream",
     "text": [
      " \n",
      "on average, the moon moves 4cm away from the earth every year\n",
      " the highest daylight temperature of the moon is 127 Celsius\n"
     ]
    }
   ],
   "source": [
    "for item in oraciones:\n",
    "       for palabra in pClave:\n",
    "        if palabra in item:\n",
    "            \n",
    "            if item.endswith('c'):\n",
    "                \n",
    "                print(item.replace('c','Celsius'))\n",
    "            else:\n",
    "                print(item)\n",
    "            break\n"
   ]
  },
  {
   "cell_type": "markdown",
   "metadata": {},
   "source": [
    "#CODIGO 2"
   ]
  },
  {
   "cell_type": "code",
   "execution_count": 113,
   "metadata": {},
   "outputs": [],
   "source": [
    "name = \"Moon\"\n",
    "gravity = 0.00162 # in kms\n",
    "planet = \"Earth\"\n",
    "\n",
    "\n"
   ]
  },
  {
   "cell_type": "code",
   "execution_count": 115,
   "metadata": {},
   "outputs": [
    {
     "data": {
      "text/plain": [
       "'Informacion Sobre Moon'"
      ]
     },
     "execution_count": 115,
     "metadata": {},
     "output_type": "execute_result"
    }
   ],
   "source": [
    "titulo = \"Informacion sobre {}\".format(name)\n",
    "titulo.title()"
   ]
  },
  {
   "cell_type": "code",
   "execution_count": 116,
   "metadata": {},
   "outputs": [
    {
     "name": "stdout",
     "output_type": "stream",
     "text": [
      "------------------------------\n",
      "Planeta = Earth \n",
      "Gravedad = 1.6199999999999999 \n",
      "Nombre = Moon\n"
     ]
    }
   ],
   "source": [
    "\n",
    "hechos = \"------------------------------\\nPlaneta = {pla} \\nGravedad = {gra} \\nNombre = {na}\".format(pla=planet,gra=gravity*1000,na=name)\n",
    "print(hechos)\n"
   ]
  },
  {
   "cell_type": "code",
   "execution_count": 117,
   "metadata": {},
   "outputs": [
    {
     "name": "stdout",
     "output_type": "stream",
     "text": [
      "Informacion Sobre Moon \n",
      "------------------------------\n",
      "Planeta = Earth \n",
      "Gravedad = 1.6199999999999999 \n",
      "Nombre = Moon\n"
     ]
    }
   ],
   "source": [
    "Plantilla=f\"\"\"{titulo.title()} \\n{hechos}\"\"\"\n",
    "\n",
    "print(Plantilla)"
   ]
  },
  {
   "cell_type": "markdown",
   "metadata": {},
   "source": [
    "#Nuevos datos"
   ]
  },
  {
   "cell_type": "code",
   "execution_count": 135,
   "metadata": {},
   "outputs": [],
   "source": [
    "\n",
    "planet = 'Marte '\n",
    "gravity  = 0.00143\n",
    "name = 'Ganímedes'\n",
    "\n"
   ]
  },
  {
   "cell_type": "code",
   "execution_count": 136,
   "metadata": {},
   "outputs": [],
   "source": [
    "titulo = \"Informacion sobre {}\".format(name)"
   ]
  },
  {
   "cell_type": "code",
   "execution_count": 137,
   "metadata": {},
   "outputs": [],
   "source": [
    "hechos = \"------------------------------\\nPlaneta = {pla} \\nGravedad = {gra} \\nNombre = {na}\".format(pla=planet,gra=gravity*1000,na=name)"
   ]
  },
  {
   "cell_type": "code",
   "execution_count": 139,
   "metadata": {},
   "outputs": [
    {
     "name": "stdout",
     "output_type": "stream",
     "text": [
      "Informacion Sobre Ganímedes \n",
      "------------------------------\n",
      "Planeta = Marte  \n",
      "Gravedad = 1.4300000000000002 \n",
      "Nombre = Ganímedes\n"
     ]
    }
   ],
   "source": [
    "nvaPlantilla= f\"\"\"{titulo.title()} \\n{hechos}\"\"\"\n",
    "print(nvaPlantilla)"
   ]
  }
 ],
 "metadata": {
  "interpreter": {
   "hash": "5c0372ed38b372118c24adb00d45654d76c8d10261533c5724e3f5fc1d75489a"
  },
  "kernelspec": {
   "display_name": "Python 3.8.7 64-bit",
   "language": "python",
   "name": "python3"
  },
  "language_info": {
   "codemirror_mode": {
    "name": "ipython",
    "version": 3
   },
   "file_extension": ".py",
   "mimetype": "text/x-python",
   "name": "python",
   "nbconvert_exporter": "python",
   "pygments_lexer": "ipython3",
   "version": "3.8.7"
  },
  "orig_nbformat": 4
 },
 "nbformat": 4,
 "nbformat_minor": 2
}
